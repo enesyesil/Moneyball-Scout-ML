{
 "cells": [
  {
   "cell_type": "markdown",
   "id": "0006c55e",
   "metadata": {},
   "source": [
    " ## Final Project Report\n",
    "    \n",
    "Submit to eclass a report (in PDF format) that includes:\n",
    "    \n",
    "1. Framing the problem and looking at the big picture.\n",
    "\n",
    "2. A description of the dataset and 3+ graphs of EDA.\n",
    "\n",
    "3. Data cleaning and preprocessing. Display the preprocessing pipeline in this section.\n",
    "\n",
    "4. Training and evaluation of three machine learning algorithms. Discuss and analyze\n",
    "\n",
    "findings, and compare results of the three models. Include a performance comparison\n",
    "table.\n",
    "\n",
    "5. 2+ graphs for the best performing algorithm.\n",
    "\n",
    "6. Any limitations you have run into.\n",
    "\n",
    "7. Next steps.\n",
    "\n",
    "8. Appendix 1: Include 2 links in appendix 1\n",
    "    \n",
    " Dataset link: Link to your dataset.\n",
    "    \n",
    " Github link: Link to your executed Jupyter notebook on your github. The notebook\n",
    "should contain the code for your machine learning models and should show the\n",
    "results. Your code should be properly commented, and you must attribute any code\n",
    "you are using from someone else. Failure to submit a working github link will result in\n",
    "-20 Marks of your total project mark.\n",
    "\n",
    " Your jupyter notebook should stay accessible on your github until the final grades are\n",
    "posted and the terms ends.\n",
    "\n",
    "9. Appendix 2: Include your source code with proper comments and attribution to any code\n",
    "you have reused.\n",
    "\n",
    "Note that the report should be 5-6 pages using single-space 12-point font. The cover page\n",
    "and appendices do not count towards the page requirement."
   ]
  },
  {
   "cell_type": "markdown",
   "id": "c0489e24",
   "metadata": {},
   "source": [
    "\n",
    "# 1. Look at the Big Picture\n",
    "\n",
    " Frame the Problem: Using a football players stat dataset to find cheaper replacements for a league-winning team. \n",
    "\n",
    "1. We Have modified our datasets according to the our needs for model training. \n",
    "2. Then, we classified players attributes according to their positions in order to identify features. \n",
    "3. \n",
    "\n"
   ]
  }
 ],
 "metadata": {
  "kernelspec": {
   "display_name": "Python 3 (ipykernel)",
   "language": "python",
   "name": "python3"
  },
  "language_info": {
   "codemirror_mode": {
    "name": "ipython",
    "version": 3
   },
   "file_extension": ".py",
   "mimetype": "text/x-python",
   "name": "python",
   "nbconvert_exporter": "python",
   "pygments_lexer": "ipython3",
   "version": "3.9.13"
  }
 },
 "nbformat": 4,
 "nbformat_minor": 5
}
